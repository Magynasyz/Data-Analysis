{
 "cells": [
  {
   "cell_type": "markdown",
   "metadata": {},
   "source": [
    "# Cleaning US Census Data"
   ]
  },
  {
   "cell_type": "markdown",
   "metadata": {},
   "source": [
    "You just got hired as a Data Analyst at the Census Bureau, which collects census data and creates interesting visualizations and insights from it.\n",
    "\n",
    "The person who had your job before you left you all the data they had for the most recent census. It is in multiple `csv` files. They didn't use pandas, they would just look through these `csv` files manually whenever they wanted to find something. Sometimes they would copy and paste certain numbers into Excel to make charts.\n",
    "\n",
    "The thought of it makes you shiver. This is not scalable or repeatable.\n",
    "\n",
    "Your boss wants you to make some scatterplots and histograms by the end of the day. Can you get this data into `pandas` and into reasonable shape so that you can make these histograms?"
   ]
  },
  {
   "cell_type": "markdown",
   "metadata": {},
   "source": [
    "## Inspect the Data!"
   ]
  },
  {
   "cell_type": "markdown",
   "metadata": {},
   "source": [
    "1. The first visualization your boss wants you to make is a scatterplot that shows average income in a state vs proportion of women in that state.\n",
    "\n",
    "   Open some of the census `csv` files that came with the kit you downloaded. How are they named? What kind of information do they hold? Will they help us make this graph?"
   ]
  },
  {
   "cell_type": "markdown",
   "metadata": {},
   "source": [
    "2. It will be easier to inspect this data once we have it in a DataFrame. You can't even call `.head()` on these `csv`s! How are you supposed to read them?\n",
    "\n",
    "   Using `glob`, loop through the census files available and load them into DataFrames. Then, concatenate all of those DataFrames together into one DataFrame, called something like `us_census`."
   ]
  },
  {
   "cell_type": "code",
   "execution_count": 1,
   "metadata": {},
   "outputs": [],
   "source": [
    "import pandas as pd\n",
    "import numpy as np\n",
    "import matplotlib.pyplot as plt"
   ]
  },
  {
   "cell_type": "code",
   "execution_count": 2,
   "metadata": {},
   "outputs": [
    {
     "name": "stdout",
     "output_type": "stream",
     "text": [
      "['states0.csv', 'states1.csv', 'states2.csv', 'states3.csv', 'states4.csv', 'states5.csv', 'states6.csv', 'states7.csv', 'states8.csv', 'states9.csv']\n"
     ]
    }
   ],
   "source": [
    "import glob\n",
    "\n",
    "files = glob.glob(\"states*.csv\")\n",
    "\n",
    "df_list = []\n",
    "for filename in files:\n",
    "  data = pd.read_csv(filename)\n",
    "  df_list.append(data)\n",
    "\n",
    "us_census= pd.concat(df_list)\n",
    "\n",
    "print(files)"
   ]
  },
  {
   "cell_type": "code",
   "execution_count": 3,
   "metadata": {},
   "outputs": [
    {
     "data": {
      "text/html": [
       "<div>\n",
       "<style scoped>\n",
       "    .dataframe tbody tr th:only-of-type {\n",
       "        vertical-align: middle;\n",
       "    }\n",
       "\n",
       "    .dataframe tbody tr th {\n",
       "        vertical-align: top;\n",
       "    }\n",
       "\n",
       "    .dataframe thead th {\n",
       "        text-align: right;\n",
       "    }\n",
       "</style>\n",
       "<table border=\"1\" class=\"dataframe\">\n",
       "  <thead>\n",
       "    <tr style=\"text-align: right;\">\n",
       "      <th></th>\n",
       "      <th>Unnamed: 0</th>\n",
       "      <th>State</th>\n",
       "      <th>TotalPop</th>\n",
       "      <th>Hispanic</th>\n",
       "      <th>White</th>\n",
       "      <th>Black</th>\n",
       "      <th>Native</th>\n",
       "      <th>Asian</th>\n",
       "      <th>Pacific</th>\n",
       "      <th>Income</th>\n",
       "      <th>GenderPop</th>\n",
       "    </tr>\n",
       "  </thead>\n",
       "  <tbody>\n",
       "    <tr>\n",
       "      <th>0</th>\n",
       "      <td>0</td>\n",
       "      <td>Alabama</td>\n",
       "      <td>4830620</td>\n",
       "      <td>3.75%</td>\n",
       "      <td>61.88%</td>\n",
       "      <td>31.25%</td>\n",
       "      <td>0.45%</td>\n",
       "      <td>1.05%</td>\n",
       "      <td>0.03%</td>\n",
       "      <td>$43,296.36</td>\n",
       "      <td>2341093M_2489527F</td>\n",
       "    </tr>\n",
       "    <tr>\n",
       "      <th>1</th>\n",
       "      <td>1</td>\n",
       "      <td>Alaska</td>\n",
       "      <td>733375</td>\n",
       "      <td>5.91%</td>\n",
       "      <td>60.91%</td>\n",
       "      <td>2.85%</td>\n",
       "      <td>16.39%</td>\n",
       "      <td>5.45%</td>\n",
       "      <td>1.06%</td>\n",
       "      <td>$70,354.74</td>\n",
       "      <td>384160M_349215F</td>\n",
       "    </tr>\n",
       "    <tr>\n",
       "      <th>2</th>\n",
       "      <td>2</td>\n",
       "      <td>Arizona</td>\n",
       "      <td>6641928</td>\n",
       "      <td>29.57%</td>\n",
       "      <td>57.12%</td>\n",
       "      <td>3.85%</td>\n",
       "      <td>4.36%</td>\n",
       "      <td>2.88%</td>\n",
       "      <td>0.17%</td>\n",
       "      <td>$54,207.82</td>\n",
       "      <td>3299088M_3342840F</td>\n",
       "    </tr>\n",
       "    <tr>\n",
       "      <th>3</th>\n",
       "      <td>3</td>\n",
       "      <td>Arkansas</td>\n",
       "      <td>2958208</td>\n",
       "      <td>6.22%</td>\n",
       "      <td>71.14%</td>\n",
       "      <td>18.97%</td>\n",
       "      <td>0.52%</td>\n",
       "      <td>1.14%</td>\n",
       "      <td>0.15%</td>\n",
       "      <td>$41,935.63</td>\n",
       "      <td>1451913M_1506295F</td>\n",
       "    </tr>\n",
       "    <tr>\n",
       "      <th>4</th>\n",
       "      <td>4</td>\n",
       "      <td>California</td>\n",
       "      <td>38421464</td>\n",
       "      <td>37.29%</td>\n",
       "      <td>40.22%</td>\n",
       "      <td>5.68%</td>\n",
       "      <td>0.41%</td>\n",
       "      <td>13.05%</td>\n",
       "      <td>0.35%</td>\n",
       "      <td>$67,264.78</td>\n",
       "      <td>19087135M_19334329F</td>\n",
       "    </tr>\n",
       "    <tr>\n",
       "      <th>5</th>\n",
       "      <td>5</td>\n",
       "      <td>Colorado</td>\n",
       "      <td>5278906</td>\n",
       "      <td>20.78%</td>\n",
       "      <td>69.90%</td>\n",
       "      <td>3.55%</td>\n",
       "      <td>0.57%</td>\n",
       "      <td>2.66%</td>\n",
       "      <td>NaN</td>\n",
       "      <td>$64,657.80</td>\n",
       "      <td>2648667M_2630239F</td>\n",
       "    </tr>\n",
       "    <tr>\n",
       "      <th>0</th>\n",
       "      <td>0</td>\n",
       "      <td>Colorado</td>\n",
       "      <td>5278906</td>\n",
       "      <td>20.78%</td>\n",
       "      <td>69.90%</td>\n",
       "      <td>3.55%</td>\n",
       "      <td>0.57%</td>\n",
       "      <td>2.66%</td>\n",
       "      <td>NaN</td>\n",
       "      <td>$64,657.80</td>\n",
       "      <td>2648667M_2630239F</td>\n",
       "    </tr>\n",
       "    <tr>\n",
       "      <th>1</th>\n",
       "      <td>1</td>\n",
       "      <td>Connecticut</td>\n",
       "      <td>3593222</td>\n",
       "      <td>15.60%</td>\n",
       "      <td>67.68%</td>\n",
       "      <td>10.35%</td>\n",
       "      <td>0.13%</td>\n",
       "      <td>4.02%</td>\n",
       "      <td>0.02%</td>\n",
       "      <td>$76,146.56</td>\n",
       "      <td>1751607M_1841615F</td>\n",
       "    </tr>\n",
       "    <tr>\n",
       "      <th>2</th>\n",
       "      <td>2</td>\n",
       "      <td>Delaware</td>\n",
       "      <td>926454</td>\n",
       "      <td>8.82%</td>\n",
       "      <td>64.63%</td>\n",
       "      <td>20.74%</td>\n",
       "      <td>0.26%</td>\n",
       "      <td>3.27%</td>\n",
       "      <td>NaN</td>\n",
       "      <td>$61,827.98</td>\n",
       "      <td>448413M_478041F</td>\n",
       "    </tr>\n",
       "    <tr>\n",
       "      <th>3</th>\n",
       "      <td>3</td>\n",
       "      <td>District of Columbia</td>\n",
       "      <td>647484</td>\n",
       "      <td>9.17%</td>\n",
       "      <td>33.10%</td>\n",
       "      <td>51.78%</td>\n",
       "      <td>0.20%</td>\n",
       "      <td>3.38%</td>\n",
       "      <td>0.03%</td>\n",
       "      <td>$75,466.36</td>\n",
       "      <td>306674M_340810F</td>\n",
       "    </tr>\n",
       "    <tr>\n",
       "      <th>4</th>\n",
       "      <td>4</td>\n",
       "      <td>Florida</td>\n",
       "      <td>19645772</td>\n",
       "      <td>21.34%</td>\n",
       "      <td>59.08%</td>\n",
       "      <td>15.17%</td>\n",
       "      <td>0.21%</td>\n",
       "      <td>2.28%</td>\n",
       "      <td>0.05%</td>\n",
       "      <td>$50,690.19</td>\n",
       "      <td>9600009M_10045763F</td>\n",
       "    </tr>\n",
       "    <tr>\n",
       "      <th>5</th>\n",
       "      <td>5</td>\n",
       "      <td>Georgia</td>\n",
       "      <td>10006693</td>\n",
       "      <td>8.42%</td>\n",
       "      <td>54.29%</td>\n",
       "      <td>32.09%</td>\n",
       "      <td>0.19%</td>\n",
       "      <td>3.10%</td>\n",
       "      <td>0.05%</td>\n",
       "      <td>$50,811.08</td>\n",
       "      <td>4883331M_5123362F</td>\n",
       "    </tr>\n",
       "    <tr>\n",
       "      <th>0</th>\n",
       "      <td>0</td>\n",
       "      <td>Georgia</td>\n",
       "      <td>10006693</td>\n",
       "      <td>8.42%</td>\n",
       "      <td>54.29%</td>\n",
       "      <td>32.09%</td>\n",
       "      <td>0.19%</td>\n",
       "      <td>3.10%</td>\n",
       "      <td>0.05%</td>\n",
       "      <td>$50,811.08</td>\n",
       "      <td>4883331M_5123362F</td>\n",
       "    </tr>\n",
       "    <tr>\n",
       "      <th>1</th>\n",
       "      <td>1</td>\n",
       "      <td>Hawaii</td>\n",
       "      <td>1406299</td>\n",
       "      <td>9.19%</td>\n",
       "      <td>25.03%</td>\n",
       "      <td>2.05%</td>\n",
       "      <td>0.14%</td>\n",
       "      <td>36.59%</td>\n",
       "      <td>8.76%</td>\n",
       "      <td>$73,264.43</td>\n",
       "      <td>709871M_696428F</td>\n",
       "    </tr>\n",
       "    <tr>\n",
       "      <th>2</th>\n",
       "      <td>2</td>\n",
       "      <td>Idaho</td>\n",
       "      <td>1616547</td>\n",
       "      <td>11.51%</td>\n",
       "      <td>83.14%</td>\n",
       "      <td>0.57%</td>\n",
       "      <td>1.47%</td>\n",
       "      <td>1.14%</td>\n",
       "      <td>0.13%</td>\n",
       "      <td>$48,017.32</td>\n",
       "      <td>810464M_806083F</td>\n",
       "    </tr>\n",
       "    <tr>\n",
       "      <th>3</th>\n",
       "      <td>3</td>\n",
       "      <td>Illinois</td>\n",
       "      <td>12873761</td>\n",
       "      <td>15.60%</td>\n",
       "      <td>60.86%</td>\n",
       "      <td>17.11%</td>\n",
       "      <td>0.12%</td>\n",
       "      <td>4.48%</td>\n",
       "      <td>0.02%</td>\n",
       "      <td>$59,587.05</td>\n",
       "      <td>6316899M_6556862F</td>\n",
       "    </tr>\n",
       "    <tr>\n",
       "      <th>4</th>\n",
       "      <td>4</td>\n",
       "      <td>Indiana</td>\n",
       "      <td>6568645</td>\n",
       "      <td>6.54%</td>\n",
       "      <td>78.43%</td>\n",
       "      <td>11.19%</td>\n",
       "      <td>0.19%</td>\n",
       "      <td>1.58%</td>\n",
       "      <td>0.03%</td>\n",
       "      <td>$48,616.23</td>\n",
       "      <td>3235263M_3333382F</td>\n",
       "    </tr>\n",
       "    <tr>\n",
       "      <th>5</th>\n",
       "      <td>5</td>\n",
       "      <td>Iowa</td>\n",
       "      <td>3093526</td>\n",
       "      <td>5.30%</td>\n",
       "      <td>87.72%</td>\n",
       "      <td>3.26%</td>\n",
       "      <td>0.29%</td>\n",
       "      <td>1.70%</td>\n",
       "      <td>0.06%</td>\n",
       "      <td>$53,017.75</td>\n",
       "      <td>1534595M_1558931F</td>\n",
       "    </tr>\n",
       "    <tr>\n",
       "      <th>0</th>\n",
       "      <td>0</td>\n",
       "      <td>Iowa</td>\n",
       "      <td>3093526</td>\n",
       "      <td>5.30%</td>\n",
       "      <td>87.72%</td>\n",
       "      <td>3.26%</td>\n",
       "      <td>0.29%</td>\n",
       "      <td>1.70%</td>\n",
       "      <td>0.06%</td>\n",
       "      <td>$53,017.75</td>\n",
       "      <td>1534595M_1558931F</td>\n",
       "    </tr>\n",
       "    <tr>\n",
       "      <th>1</th>\n",
       "      <td>1</td>\n",
       "      <td>Kansas</td>\n",
       "      <td>2892987</td>\n",
       "      <td>11.64%</td>\n",
       "      <td>75.96%</td>\n",
       "      <td>6.57%</td>\n",
       "      <td>0.73%</td>\n",
       "      <td>2.33%</td>\n",
       "      <td>NaN</td>\n",
       "      <td>$53,885.61</td>\n",
       "      <td>1439862M_1453125F</td>\n",
       "    </tr>\n",
       "    <tr>\n",
       "      <th>2</th>\n",
       "      <td>2</td>\n",
       "      <td>Kentucky</td>\n",
       "      <td>4397353</td>\n",
       "      <td>3.22%</td>\n",
       "      <td>85.23%</td>\n",
       "      <td>8.27%</td>\n",
       "      <td>0.17%</td>\n",
       "      <td>1.13%</td>\n",
       "      <td>0.05%</td>\n",
       "      <td>$45,285.80</td>\n",
       "      <td>2164208M_2233145F</td>\n",
       "    </tr>\n",
       "    <tr>\n",
       "      <th>3</th>\n",
       "      <td>3</td>\n",
       "      <td>Louisiana</td>\n",
       "      <td>4625253</td>\n",
       "      <td>4.87%</td>\n",
       "      <td>54.98%</td>\n",
       "      <td>36.33%</td>\n",
       "      <td>0.48%</td>\n",
       "      <td>1.67%</td>\n",
       "      <td>0.04%</td>\n",
       "      <td>$44,957.99</td>\n",
       "      <td>2261156M_2364097F</td>\n",
       "    </tr>\n",
       "    <tr>\n",
       "      <th>4</th>\n",
       "      <td>4</td>\n",
       "      <td>Maine</td>\n",
       "      <td>1329100</td>\n",
       "      <td>1.43%</td>\n",
       "      <td>93.71%</td>\n",
       "      <td>1.13%</td>\n",
       "      <td>0.79%</td>\n",
       "      <td>0.97%</td>\n",
       "      <td>0.02%</td>\n",
       "      <td>$49,181.97</td>\n",
       "      <td>650081M_679019F</td>\n",
       "    </tr>\n",
       "    <tr>\n",
       "      <th>5</th>\n",
       "      <td>5</td>\n",
       "      <td>Maryland</td>\n",
       "      <td>5930538</td>\n",
       "      <td>8.47%</td>\n",
       "      <td>52.68%</td>\n",
       "      <td>30.68%</td>\n",
       "      <td>0.20%</td>\n",
       "      <td>5.33%</td>\n",
       "      <td>0.04%</td>\n",
       "      <td>$78,765.40</td>\n",
       "      <td>2872643M_F</td>\n",
       "    </tr>\n",
       "    <tr>\n",
       "      <th>0</th>\n",
       "      <td>0</td>\n",
       "      <td>Maryland</td>\n",
       "      <td>5930538</td>\n",
       "      <td>8.47%</td>\n",
       "      <td>52.68%</td>\n",
       "      <td>30.68%</td>\n",
       "      <td>0.20%</td>\n",
       "      <td>5.33%</td>\n",
       "      <td>0.04%</td>\n",
       "      <td>$78,765.40</td>\n",
       "      <td>2872643M_F</td>\n",
       "    </tr>\n",
       "    <tr>\n",
       "      <th>1</th>\n",
       "      <td>1</td>\n",
       "      <td>Massachusetts</td>\n",
       "      <td>6705586</td>\n",
       "      <td>11.46%</td>\n",
       "      <td>73.04%</td>\n",
       "      <td>6.83%</td>\n",
       "      <td>0.13%</td>\n",
       "      <td>5.84%</td>\n",
       "      <td>0.02%</td>\n",
       "      <td>$72,838.94</td>\n",
       "      <td>3249650M_3455936F</td>\n",
       "    </tr>\n",
       "    <tr>\n",
       "      <th>2</th>\n",
       "      <td>2</td>\n",
       "      <td>Michigan</td>\n",
       "      <td>9900571</td>\n",
       "      <td>4.63%</td>\n",
       "      <td>72.38%</td>\n",
       "      <td>17.63%</td>\n",
       "      <td>0.48%</td>\n",
       "      <td>2.42%</td>\n",
       "      <td>0.02%</td>\n",
       "      <td>$51,201.83</td>\n",
       "      <td>4861973M_5038598F</td>\n",
       "    </tr>\n",
       "    <tr>\n",
       "      <th>3</th>\n",
       "      <td>3</td>\n",
       "      <td>Minnesota</td>\n",
       "      <td>5419171</td>\n",
       "      <td>5.15%</td>\n",
       "      <td>81.43%</td>\n",
       "      <td>5.66%</td>\n",
       "      <td>1.07%</td>\n",
       "      <td>4.16%</td>\n",
       "      <td>0.03%</td>\n",
       "      <td>$62,820.83</td>\n",
       "      <td>2692166M_2727005F</td>\n",
       "    </tr>\n",
       "    <tr>\n",
       "      <th>4</th>\n",
       "      <td>4</td>\n",
       "      <td>Mississippi</td>\n",
       "      <td>2988081</td>\n",
       "      <td>2.84%</td>\n",
       "      <td>53.29%</td>\n",
       "      <td>41.49%</td>\n",
       "      <td>0.39%</td>\n",
       "      <td>0.88%</td>\n",
       "      <td>0.02%</td>\n",
       "      <td>$38,909.92</td>\n",
       "      <td>1451723M_1536358F</td>\n",
       "    </tr>\n",
       "    <tr>\n",
       "      <th>5</th>\n",
       "      <td>5</td>\n",
       "      <td>Missouri</td>\n",
       "      <td>6045448</td>\n",
       "      <td>4.04%</td>\n",
       "      <td>77.51%</td>\n",
       "      <td>14.12%</td>\n",
       "      <td>0.36%</td>\n",
       "      <td>1.62%</td>\n",
       "      <td>0.10%</td>\n",
       "      <td>$49,763.99</td>\n",
       "      <td>2964003M_3081445F</td>\n",
       "    </tr>\n",
       "    <tr>\n",
       "      <th>0</th>\n",
       "      <td>0</td>\n",
       "      <td>Missouri</td>\n",
       "      <td>6045448</td>\n",
       "      <td>4.04%</td>\n",
       "      <td>77.51%</td>\n",
       "      <td>14.12%</td>\n",
       "      <td>0.36%</td>\n",
       "      <td>1.62%</td>\n",
       "      <td>0.10%</td>\n",
       "      <td>$49,763.99</td>\n",
       "      <td>2964003M_3081445F</td>\n",
       "    </tr>\n",
       "    <tr>\n",
       "      <th>1</th>\n",
       "      <td>1</td>\n",
       "      <td>Montana</td>\n",
       "      <td>1014699</td>\n",
       "      <td>3.27%</td>\n",
       "      <td>86.42%</td>\n",
       "      <td>0.43%</td>\n",
       "      <td>7.06%</td>\n",
       "      <td>0.57%</td>\n",
       "      <td>0.07%</td>\n",
       "      <td>$47,645.68</td>\n",
       "      <td>510163M_F</td>\n",
       "    </tr>\n",
       "    <tr>\n",
       "      <th>2</th>\n",
       "      <td>2</td>\n",
       "      <td>Nebraska</td>\n",
       "      <td>1869365</td>\n",
       "      <td>9.20%</td>\n",
       "      <td>81.14%</td>\n",
       "      <td>4.96%</td>\n",
       "      <td>0.86%</td>\n",
       "      <td>1.86%</td>\n",
       "      <td>0.06%</td>\n",
       "      <td>$55,916.47</td>\n",
       "      <td>929606M_939759F</td>\n",
       "    </tr>\n",
       "    <tr>\n",
       "      <th>3</th>\n",
       "      <td>3</td>\n",
       "      <td>Nevada</td>\n",
       "      <td>2798636</td>\n",
       "      <td>27.10%</td>\n",
       "      <td>53.24%</td>\n",
       "      <td>7.74%</td>\n",
       "      <td>1.09%</td>\n",
       "      <td>7.10%</td>\n",
       "      <td>0.57%</td>\n",
       "      <td>$55,526.53</td>\n",
       "      <td>1407735M_1390901F</td>\n",
       "    </tr>\n",
       "    <tr>\n",
       "      <th>4</th>\n",
       "      <td>4</td>\n",
       "      <td>New Hampshire</td>\n",
       "      <td>1324201</td>\n",
       "      <td>3.32%</td>\n",
       "      <td>91.32%</td>\n",
       "      <td>1.23%</td>\n",
       "      <td>0.14%</td>\n",
       "      <td>2.19%</td>\n",
       "      <td>0.02%</td>\n",
       "      <td>$68,728.86</td>\n",
       "      <td>653484M_670717F</td>\n",
       "    </tr>\n",
       "    <tr>\n",
       "      <th>5</th>\n",
       "      <td>5</td>\n",
       "      <td>New Jersey</td>\n",
       "      <td>8904413</td>\n",
       "      <td>18.75%</td>\n",
       "      <td>56.49%</td>\n",
       "      <td>14.39%</td>\n",
       "      <td>0.12%</td>\n",
       "      <td>8.16%</td>\n",
       "      <td>0.03%</td>\n",
       "      <td>$76,581.08</td>\n",
       "      <td>4343027M_4561386F</td>\n",
       "    </tr>\n",
       "    <tr>\n",
       "      <th>0</th>\n",
       "      <td>0</td>\n",
       "      <td>New Jersey</td>\n",
       "      <td>8904413</td>\n",
       "      <td>18.75%</td>\n",
       "      <td>56.49%</td>\n",
       "      <td>14.39%</td>\n",
       "      <td>0.12%</td>\n",
       "      <td>8.16%</td>\n",
       "      <td>0.03%</td>\n",
       "      <td>$76,581.08</td>\n",
       "      <td>4343027M_4561386F</td>\n",
       "    </tr>\n",
       "    <tr>\n",
       "      <th>1</th>\n",
       "      <td>1</td>\n",
       "      <td>New Mexico</td>\n",
       "      <td>2084117</td>\n",
       "      <td>45.28%</td>\n",
       "      <td>40.70%</td>\n",
       "      <td>1.76%</td>\n",
       "      <td>9.25%</td>\n",
       "      <td>1.23%</td>\n",
       "      <td>0.04%</td>\n",
       "      <td>$47,329.97</td>\n",
       "      <td>1032414M_1051703F</td>\n",
       "    </tr>\n",
       "    <tr>\n",
       "      <th>2</th>\n",
       "      <td>2</td>\n",
       "      <td>New York</td>\n",
       "      <td>19673174</td>\n",
       "      <td>17.24%</td>\n",
       "      <td>56.47%</td>\n",
       "      <td>15.67%</td>\n",
       "      <td>0.32%</td>\n",
       "      <td>7.90%</td>\n",
       "      <td>0.02%</td>\n",
       "      <td>$64,290.75</td>\n",
       "      <td>9541801M_10131373F</td>\n",
       "    </tr>\n",
       "    <tr>\n",
       "      <th>3</th>\n",
       "      <td>3</td>\n",
       "      <td>North Carolina</td>\n",
       "      <td>9845333</td>\n",
       "      <td>8.46%</td>\n",
       "      <td>64.60%</td>\n",
       "      <td>21.40%</td>\n",
       "      <td>1.09%</td>\n",
       "      <td>2.32%</td>\n",
       "      <td>0.05%</td>\n",
       "      <td>$49,937.46</td>\n",
       "      <td>4795408M_5049925F</td>\n",
       "    </tr>\n",
       "    <tr>\n",
       "      <th>4</th>\n",
       "      <td>4</td>\n",
       "      <td>North Dakota</td>\n",
       "      <td>721640</td>\n",
       "      <td>2.83%</td>\n",
       "      <td>87.45%</td>\n",
       "      <td>1.28%</td>\n",
       "      <td>5.65%</td>\n",
       "      <td>0.96%</td>\n",
       "      <td>NaN</td>\n",
       "      <td>$58,188.11</td>\n",
       "      <td>367963M_353677F</td>\n",
       "    </tr>\n",
       "    <tr>\n",
       "      <th>5</th>\n",
       "      <td>5</td>\n",
       "      <td>Ohio</td>\n",
       "      <td>11575977</td>\n",
       "      <td>3.67%</td>\n",
       "      <td>75.90%</td>\n",
       "      <td>16.21%</td>\n",
       "      <td>0.17%</td>\n",
       "      <td>1.62%</td>\n",
       "      <td>0.02%</td>\n",
       "      <td>$49,655.25</td>\n",
       "      <td>5662893M_5913084F</td>\n",
       "    </tr>\n",
       "    <tr>\n",
       "      <th>0</th>\n",
       "      <td>0</td>\n",
       "      <td>Ohio</td>\n",
       "      <td>11575977</td>\n",
       "      <td>3.67%</td>\n",
       "      <td>75.90%</td>\n",
       "      <td>16.21%</td>\n",
       "      <td>0.17%</td>\n",
       "      <td>1.62%</td>\n",
       "      <td>0.02%</td>\n",
       "      <td>$49,655.25</td>\n",
       "      <td>5662893M_5913084F</td>\n",
       "    </tr>\n",
       "    <tr>\n",
       "      <th>1</th>\n",
       "      <td>1</td>\n",
       "      <td>Oklahoma</td>\n",
       "      <td>3849733</td>\n",
       "      <td>10.08%</td>\n",
       "      <td>66.06%</td>\n",
       "      <td>8.31%</td>\n",
       "      <td>6.72%</td>\n",
       "      <td>1.80%</td>\n",
       "      <td>0.11%</td>\n",
       "      <td>$48,100.85</td>\n",
       "      <td>1906944M_1942789F</td>\n",
       "    </tr>\n",
       "    <tr>\n",
       "      <th>2</th>\n",
       "      <td>2</td>\n",
       "      <td>Oregon</td>\n",
       "      <td>3939233</td>\n",
       "      <td>11.44%</td>\n",
       "      <td>78.40%</td>\n",
       "      <td>1.73%</td>\n",
       "      <td>1.00%</td>\n",
       "      <td>3.59%</td>\n",
       "      <td>0.35%</td>\n",
       "      <td>$54,271.90</td>\n",
       "      <td>1948453M_1990780F</td>\n",
       "    </tr>\n",
       "    <tr>\n",
       "      <th>3</th>\n",
       "      <td>3</td>\n",
       "      <td>Pennsylvania</td>\n",
       "      <td>12779559</td>\n",
       "      <td>6.13%</td>\n",
       "      <td>77.38%</td>\n",
       "      <td>11.63%</td>\n",
       "      <td>0.12%</td>\n",
       "      <td>2.80%</td>\n",
       "      <td>0.02%</td>\n",
       "      <td>$56,170.46</td>\n",
       "      <td>6245344M_6534215F</td>\n",
       "    </tr>\n",
       "    <tr>\n",
       "      <th>4</th>\n",
       "      <td>4</td>\n",
       "      <td>Puerto Rico</td>\n",
       "      <td>3583073</td>\n",
       "      <td>98.89%</td>\n",
       "      <td>0.77%</td>\n",
       "      <td>0.09%</td>\n",
       "      <td>0.00%</td>\n",
       "      <td>0.08%</td>\n",
       "      <td>0.00%</td>\n",
       "      <td>$20,720.54</td>\n",
       "      <td>1713860M_1869213F</td>\n",
       "    </tr>\n",
       "    <tr>\n",
       "      <th>5</th>\n",
       "      <td>5</td>\n",
       "      <td>Rhode Island</td>\n",
       "      <td>1053661</td>\n",
       "      <td>13.36%</td>\n",
       "      <td>74.33%</td>\n",
       "      <td>5.68%</td>\n",
       "      <td>0.35%</td>\n",
       "      <td>3.25%</td>\n",
       "      <td>0.04%</td>\n",
       "      <td>$59,125.27</td>\n",
       "      <td>510388M_543273F</td>\n",
       "    </tr>\n",
       "    <tr>\n",
       "      <th>0</th>\n",
       "      <td>0</td>\n",
       "      <td>Rhode Island</td>\n",
       "      <td>1053661</td>\n",
       "      <td>13.36%</td>\n",
       "      <td>74.33%</td>\n",
       "      <td>5.68%</td>\n",
       "      <td>0.35%</td>\n",
       "      <td>3.25%</td>\n",
       "      <td>0.04%</td>\n",
       "      <td>$59,125.27</td>\n",
       "      <td>510388M_543273F</td>\n",
       "    </tr>\n",
       "    <tr>\n",
       "      <th>1</th>\n",
       "      <td>1</td>\n",
       "      <td>South Carolina</td>\n",
       "      <td>4777576</td>\n",
       "      <td>5.06%</td>\n",
       "      <td>62.89%</td>\n",
       "      <td>28.75%</td>\n",
       "      <td>0.29%</td>\n",
       "      <td>1.25%</td>\n",
       "      <td>0.05%</td>\n",
       "      <td>$46,296.81</td>\n",
       "      <td>2322409M_2455167F</td>\n",
       "    </tr>\n",
       "    <tr>\n",
       "      <th>2</th>\n",
       "      <td>2</td>\n",
       "      <td>South Dakota</td>\n",
       "      <td>843190</td>\n",
       "      <td>3.24%</td>\n",
       "      <td>82.50%</td>\n",
       "      <td>1.42%</td>\n",
       "      <td>9.42%</td>\n",
       "      <td>1.02%</td>\n",
       "      <td>0.04%</td>\n",
       "      <td>$51,805.41</td>\n",
       "      <td>423477M_419713F</td>\n",
       "    </tr>\n",
       "    <tr>\n",
       "      <th>3</th>\n",
       "      <td>3</td>\n",
       "      <td>Tennessee</td>\n",
       "      <td>6499615</td>\n",
       "      <td>4.72%</td>\n",
       "      <td>73.49%</td>\n",
       "      <td>18.28%</td>\n",
       "      <td>0.23%</td>\n",
       "      <td>1.41%</td>\n",
       "      <td>0.04%</td>\n",
       "      <td>$47,328.08</td>\n",
       "      <td>3167756M_3331859F</td>\n",
       "    </tr>\n",
       "    <tr>\n",
       "      <th>4</th>\n",
       "      <td>4</td>\n",
       "      <td>Texas</td>\n",
       "      <td>26538614</td>\n",
       "      <td>38.05%</td>\n",
       "      <td>44.69%</td>\n",
       "      <td>11.65%</td>\n",
       "      <td>0.26%</td>\n",
       "      <td>3.67%</td>\n",
       "      <td>0.07%</td>\n",
       "      <td>$55,874.52</td>\n",
       "      <td>13171316M_13367298F</td>\n",
       "    </tr>\n",
       "    <tr>\n",
       "      <th>5</th>\n",
       "      <td>5</td>\n",
       "      <td>Utah</td>\n",
       "      <td>2903379</td>\n",
       "      <td>13.47%</td>\n",
       "      <td>79.41%</td>\n",
       "      <td>1.02%</td>\n",
       "      <td>1.08%</td>\n",
       "      <td>2.20%</td>\n",
       "      <td>0.83%</td>\n",
       "      <td>$63,488.92</td>\n",
       "      <td>1459229M_1444150F</td>\n",
       "    </tr>\n",
       "    <tr>\n",
       "      <th>0</th>\n",
       "      <td>0</td>\n",
       "      <td>Utah</td>\n",
       "      <td>2903379</td>\n",
       "      <td>13.47%</td>\n",
       "      <td>79.41%</td>\n",
       "      <td>1.02%</td>\n",
       "      <td>1.08%</td>\n",
       "      <td>2.20%</td>\n",
       "      <td>0.83%</td>\n",
       "      <td>$63,488.92</td>\n",
       "      <td>1459229M_1444150F</td>\n",
       "    </tr>\n",
       "    <tr>\n",
       "      <th>1</th>\n",
       "      <td>1</td>\n",
       "      <td>Vermont</td>\n",
       "      <td>626604</td>\n",
       "      <td>1.61%</td>\n",
       "      <td>93.98%</td>\n",
       "      <td>0.98%</td>\n",
       "      <td>0.30%</td>\n",
       "      <td>1.24%</td>\n",
       "      <td>0.03%</td>\n",
       "      <td>$55,602.97</td>\n",
       "      <td>308573M_318031F</td>\n",
       "    </tr>\n",
       "    <tr>\n",
       "      <th>2</th>\n",
       "      <td>2</td>\n",
       "      <td>Virginia</td>\n",
       "      <td>8256630</td>\n",
       "      <td>8.01%</td>\n",
       "      <td>63.27%</td>\n",
       "      <td>20.18%</td>\n",
       "      <td>0.21%</td>\n",
       "      <td>5.46%</td>\n",
       "      <td>0.06%</td>\n",
       "      <td>$72,866.01</td>\n",
       "      <td>4060948M_4195682F</td>\n",
       "    </tr>\n",
       "    <tr>\n",
       "      <th>3</th>\n",
       "      <td>3</td>\n",
       "      <td>Washington</td>\n",
       "      <td>6985464</td>\n",
       "      <td>11.14%</td>\n",
       "      <td>72.04%</td>\n",
       "      <td>3.38%</td>\n",
       "      <td>1.41%</td>\n",
       "      <td>7.02%</td>\n",
       "      <td>0.61%</td>\n",
       "      <td>$64,493.77</td>\n",
       "      <td>3487725M_3497739F</td>\n",
       "    </tr>\n",
       "    <tr>\n",
       "      <th>4</th>\n",
       "      <td>4</td>\n",
       "      <td>West Virginia</td>\n",
       "      <td>1851420</td>\n",
       "      <td>1.29%</td>\n",
       "      <td>92.18%</td>\n",
       "      <td>3.66%</td>\n",
       "      <td>0.15%</td>\n",
       "      <td>0.68%</td>\n",
       "      <td>0.03%</td>\n",
       "      <td>$41,437.11</td>\n",
       "      <td>913631M_937789F</td>\n",
       "    </tr>\n",
       "    <tr>\n",
       "      <th>5</th>\n",
       "      <td>5</td>\n",
       "      <td>Wisconsin</td>\n",
       "      <td>5742117</td>\n",
       "      <td>6.68%</td>\n",
       "      <td>79.86%</td>\n",
       "      <td>8.20%</td>\n",
       "      <td>0.95%</td>\n",
       "      <td>2.40%</td>\n",
       "      <td>0.02%</td>\n",
       "      <td>$53,898.89</td>\n",
       "      <td>2851385M_2890732F</td>\n",
       "    </tr>\n",
       "  </tbody>\n",
       "</table>\n",
       "</div>"
      ],
      "text/plain": [
       "   Unnamed: 0                 State  TotalPop Hispanic   White   Black  \\\n",
       "0           0               Alabama   4830620    3.75%  61.88%  31.25%   \n",
       "1           1                Alaska    733375    5.91%  60.91%   2.85%   \n",
       "2           2               Arizona   6641928   29.57%  57.12%   3.85%   \n",
       "3           3              Arkansas   2958208    6.22%  71.14%  18.97%   \n",
       "4           4            California  38421464   37.29%  40.22%   5.68%   \n",
       "5           5              Colorado   5278906   20.78%  69.90%   3.55%   \n",
       "0           0              Colorado   5278906   20.78%  69.90%   3.55%   \n",
       "1           1           Connecticut   3593222   15.60%  67.68%  10.35%   \n",
       "2           2              Delaware    926454    8.82%  64.63%  20.74%   \n",
       "3           3  District of Columbia    647484    9.17%  33.10%  51.78%   \n",
       "4           4               Florida  19645772   21.34%  59.08%  15.17%   \n",
       "5           5               Georgia  10006693    8.42%  54.29%  32.09%   \n",
       "0           0               Georgia  10006693    8.42%  54.29%  32.09%   \n",
       "1           1                Hawaii   1406299    9.19%  25.03%   2.05%   \n",
       "2           2                 Idaho   1616547   11.51%  83.14%   0.57%   \n",
       "3           3              Illinois  12873761   15.60%  60.86%  17.11%   \n",
       "4           4               Indiana   6568645    6.54%  78.43%  11.19%   \n",
       "5           5                  Iowa   3093526    5.30%  87.72%   3.26%   \n",
       "0           0                  Iowa   3093526    5.30%  87.72%   3.26%   \n",
       "1           1                Kansas   2892987   11.64%  75.96%   6.57%   \n",
       "2           2              Kentucky   4397353    3.22%  85.23%   8.27%   \n",
       "3           3             Louisiana   4625253    4.87%  54.98%  36.33%   \n",
       "4           4                 Maine   1329100    1.43%  93.71%   1.13%   \n",
       "5           5              Maryland   5930538    8.47%  52.68%  30.68%   \n",
       "0           0              Maryland   5930538    8.47%  52.68%  30.68%   \n",
       "1           1         Massachusetts   6705586   11.46%  73.04%   6.83%   \n",
       "2           2              Michigan   9900571    4.63%  72.38%  17.63%   \n",
       "3           3             Minnesota   5419171    5.15%  81.43%   5.66%   \n",
       "4           4           Mississippi   2988081    2.84%  53.29%  41.49%   \n",
       "5           5              Missouri   6045448    4.04%  77.51%  14.12%   \n",
       "0           0              Missouri   6045448    4.04%  77.51%  14.12%   \n",
       "1           1               Montana   1014699    3.27%  86.42%   0.43%   \n",
       "2           2              Nebraska   1869365    9.20%  81.14%   4.96%   \n",
       "3           3                Nevada   2798636   27.10%  53.24%   7.74%   \n",
       "4           4         New Hampshire   1324201    3.32%  91.32%   1.23%   \n",
       "5           5            New Jersey   8904413   18.75%  56.49%  14.39%   \n",
       "0           0            New Jersey   8904413   18.75%  56.49%  14.39%   \n",
       "1           1            New Mexico   2084117   45.28%  40.70%   1.76%   \n",
       "2           2              New York  19673174   17.24%  56.47%  15.67%   \n",
       "3           3        North Carolina   9845333    8.46%  64.60%  21.40%   \n",
       "4           4          North Dakota    721640    2.83%  87.45%   1.28%   \n",
       "5           5                  Ohio  11575977    3.67%  75.90%  16.21%   \n",
       "0           0                  Ohio  11575977    3.67%  75.90%  16.21%   \n",
       "1           1              Oklahoma   3849733   10.08%  66.06%   8.31%   \n",
       "2           2                Oregon   3939233   11.44%  78.40%   1.73%   \n",
       "3           3          Pennsylvania  12779559    6.13%  77.38%  11.63%   \n",
       "4           4           Puerto Rico   3583073   98.89%   0.77%   0.09%   \n",
       "5           5          Rhode Island   1053661   13.36%  74.33%   5.68%   \n",
       "0           0          Rhode Island   1053661   13.36%  74.33%   5.68%   \n",
       "1           1        South Carolina   4777576    5.06%  62.89%  28.75%   \n",
       "2           2          South Dakota    843190    3.24%  82.50%   1.42%   \n",
       "3           3             Tennessee   6499615    4.72%  73.49%  18.28%   \n",
       "4           4                 Texas  26538614   38.05%  44.69%  11.65%   \n",
       "5           5                  Utah   2903379   13.47%  79.41%   1.02%   \n",
       "0           0                  Utah   2903379   13.47%  79.41%   1.02%   \n",
       "1           1               Vermont    626604    1.61%  93.98%   0.98%   \n",
       "2           2              Virginia   8256630    8.01%  63.27%  20.18%   \n",
       "3           3            Washington   6985464   11.14%  72.04%   3.38%   \n",
       "4           4         West Virginia   1851420    1.29%  92.18%   3.66%   \n",
       "5           5             Wisconsin   5742117    6.68%  79.86%   8.20%   \n",
       "\n",
       "   Native   Asian Pacific       Income            GenderPop  \n",
       "0   0.45%   1.05%   0.03%  $43,296.36     2341093M_2489527F  \n",
       "1  16.39%   5.45%   1.06%  $70,354.74       384160M_349215F  \n",
       "2   4.36%   2.88%   0.17%  $54,207.82     3299088M_3342840F  \n",
       "3   0.52%   1.14%   0.15%  $41,935.63     1451913M_1506295F  \n",
       "4   0.41%  13.05%   0.35%  $67,264.78   19087135M_19334329F  \n",
       "5   0.57%   2.66%     NaN  $64,657.80     2648667M_2630239F  \n",
       "0   0.57%   2.66%     NaN  $64,657.80     2648667M_2630239F  \n",
       "1   0.13%   4.02%   0.02%  $76,146.56     1751607M_1841615F  \n",
       "2   0.26%   3.27%     NaN  $61,827.98       448413M_478041F  \n",
       "3   0.20%   3.38%   0.03%  $75,466.36       306674M_340810F  \n",
       "4   0.21%   2.28%   0.05%  $50,690.19    9600009M_10045763F  \n",
       "5   0.19%   3.10%   0.05%  $50,811.08     4883331M_5123362F  \n",
       "0   0.19%   3.10%   0.05%  $50,811.08     4883331M_5123362F  \n",
       "1   0.14%  36.59%   8.76%  $73,264.43       709871M_696428F  \n",
       "2   1.47%   1.14%   0.13%  $48,017.32       810464M_806083F  \n",
       "3   0.12%   4.48%   0.02%  $59,587.05     6316899M_6556862F  \n",
       "4   0.19%   1.58%   0.03%  $48,616.23     3235263M_3333382F  \n",
       "5   0.29%   1.70%   0.06%  $53,017.75     1534595M_1558931F  \n",
       "0   0.29%   1.70%   0.06%  $53,017.75     1534595M_1558931F  \n",
       "1   0.73%   2.33%     NaN  $53,885.61     1439862M_1453125F  \n",
       "2   0.17%   1.13%   0.05%  $45,285.80     2164208M_2233145F  \n",
       "3   0.48%   1.67%   0.04%  $44,957.99     2261156M_2364097F  \n",
       "4   0.79%   0.97%   0.02%  $49,181.97       650081M_679019F  \n",
       "5   0.20%   5.33%   0.04%  $78,765.40            2872643M_F  \n",
       "0   0.20%   5.33%   0.04%  $78,765.40            2872643M_F  \n",
       "1   0.13%   5.84%   0.02%  $72,838.94     3249650M_3455936F  \n",
       "2   0.48%   2.42%   0.02%  $51,201.83     4861973M_5038598F  \n",
       "3   1.07%   4.16%   0.03%  $62,820.83     2692166M_2727005F  \n",
       "4   0.39%   0.88%   0.02%  $38,909.92     1451723M_1536358F  \n",
       "5   0.36%   1.62%   0.10%  $49,763.99     2964003M_3081445F  \n",
       "0   0.36%   1.62%   0.10%  $49,763.99     2964003M_3081445F  \n",
       "1   7.06%   0.57%   0.07%  $47,645.68             510163M_F  \n",
       "2   0.86%   1.86%   0.06%  $55,916.47       929606M_939759F  \n",
       "3   1.09%   7.10%   0.57%  $55,526.53     1407735M_1390901F  \n",
       "4   0.14%   2.19%   0.02%  $68,728.86       653484M_670717F  \n",
       "5   0.12%   8.16%   0.03%  $76,581.08     4343027M_4561386F  \n",
       "0   0.12%   8.16%   0.03%  $76,581.08     4343027M_4561386F  \n",
       "1   9.25%   1.23%   0.04%  $47,329.97     1032414M_1051703F  \n",
       "2   0.32%   7.90%   0.02%  $64,290.75    9541801M_10131373F  \n",
       "3   1.09%   2.32%   0.05%  $49,937.46     4795408M_5049925F  \n",
       "4   5.65%   0.96%     NaN  $58,188.11       367963M_353677F  \n",
       "5   0.17%   1.62%   0.02%  $49,655.25     5662893M_5913084F  \n",
       "0   0.17%   1.62%   0.02%  $49,655.25     5662893M_5913084F  \n",
       "1   6.72%   1.80%   0.11%  $48,100.85     1906944M_1942789F  \n",
       "2   1.00%   3.59%   0.35%  $54,271.90     1948453M_1990780F  \n",
       "3   0.12%   2.80%   0.02%  $56,170.46     6245344M_6534215F  \n",
       "4   0.00%   0.08%   0.00%  $20,720.54     1713860M_1869213F  \n",
       "5   0.35%   3.25%   0.04%  $59,125.27       510388M_543273F  \n",
       "0   0.35%   3.25%   0.04%  $59,125.27       510388M_543273F  \n",
       "1   0.29%   1.25%   0.05%  $46,296.81     2322409M_2455167F  \n",
       "2   9.42%   1.02%   0.04%  $51,805.41       423477M_419713F  \n",
       "3   0.23%   1.41%   0.04%  $47,328.08     3167756M_3331859F  \n",
       "4   0.26%   3.67%   0.07%  $55,874.52   13171316M_13367298F  \n",
       "5   1.08%   2.20%   0.83%  $63,488.92     1459229M_1444150F  \n",
       "0   1.08%   2.20%   0.83%  $63,488.92     1459229M_1444150F  \n",
       "1   0.30%   1.24%   0.03%  $55,602.97       308573M_318031F  \n",
       "2   0.21%   5.46%   0.06%  $72,866.01     4060948M_4195682F  \n",
       "3   1.41%   7.02%   0.61%  $64,493.77     3487725M_3497739F  \n",
       "4   0.15%   0.68%   0.03%  $41,437.11       913631M_937789F  \n",
       "5   0.95%   2.40%   0.02%  $53,898.89     2851385M_2890732F  "
      ]
     },
     "execution_count": 3,
     "metadata": {},
     "output_type": "execute_result"
    }
   ],
   "source": [
    "us_census"
   ]
  },
  {
   "cell_type": "markdown",
   "metadata": {},
   "source": [
    "3. Look at the `.columns` and the `.dtypes` of the `us_census` DataFrame. Are those datatypes going to hinder you as you try to make histograms?"
   ]
  },
  {
   "cell_type": "code",
   "execution_count": 4,
   "metadata": {},
   "outputs": [
    {
     "data": {
      "text/plain": [
       "Index(['Unnamed: 0', 'State', 'TotalPop', 'Hispanic', 'White', 'Black',\n",
       "       'Native', 'Asian', 'Pacific', 'Income', 'GenderPop'],\n",
       "      dtype='object')"
      ]
     },
     "execution_count": 4,
     "metadata": {},
     "output_type": "execute_result"
    }
   ],
   "source": [
    "us_census.columns"
   ]
  },
  {
   "cell_type": "code",
   "execution_count": 5,
   "metadata": {},
   "outputs": [
    {
     "data": {
      "text/plain": [
       "Unnamed: 0     int64\n",
       "State         object\n",
       "TotalPop       int64\n",
       "Hispanic      object\n",
       "White         object\n",
       "Black         object\n",
       "Native        object\n",
       "Asian         object\n",
       "Pacific       object\n",
       "Income        object\n",
       "GenderPop     object\n",
       "dtype: object"
      ]
     },
     "execution_count": 5,
     "metadata": {},
     "output_type": "execute_result"
    }
   ],
   "source": [
    "us_census.dtypes"
   ]
  },
  {
   "cell_type": "markdown",
   "metadata": {},
   "source": [
    "4. Look at the `head()` of the DataFrame so that you can understand why some of these `dtypes` are objects instead of integers or floats.\n",
    "\n",
    "   Start to make a plan for how to convert these columns into the right types for manipulation."
   ]
  },
  {
   "cell_type": "code",
   "execution_count": 6,
   "metadata": {},
   "outputs": [
    {
     "data": {
      "text/html": [
       "<div>\n",
       "<style scoped>\n",
       "    .dataframe tbody tr th:only-of-type {\n",
       "        vertical-align: middle;\n",
       "    }\n",
       "\n",
       "    .dataframe tbody tr th {\n",
       "        vertical-align: top;\n",
       "    }\n",
       "\n",
       "    .dataframe thead th {\n",
       "        text-align: right;\n",
       "    }\n",
       "</style>\n",
       "<table border=\"1\" class=\"dataframe\">\n",
       "  <thead>\n",
       "    <tr style=\"text-align: right;\">\n",
       "      <th></th>\n",
       "      <th>Unnamed: 0</th>\n",
       "      <th>State</th>\n",
       "      <th>TotalPop</th>\n",
       "      <th>Hispanic</th>\n",
       "      <th>White</th>\n",
       "      <th>Black</th>\n",
       "      <th>Native</th>\n",
       "      <th>Asian</th>\n",
       "      <th>Pacific</th>\n",
       "      <th>Income</th>\n",
       "      <th>GenderPop</th>\n",
       "    </tr>\n",
       "  </thead>\n",
       "  <tbody>\n",
       "    <tr>\n",
       "      <th>0</th>\n",
       "      <td>0</td>\n",
       "      <td>Alabama</td>\n",
       "      <td>4830620</td>\n",
       "      <td>3.75%</td>\n",
       "      <td>61.88%</td>\n",
       "      <td>31.25%</td>\n",
       "      <td>0.45%</td>\n",
       "      <td>1.05%</td>\n",
       "      <td>0.03%</td>\n",
       "      <td>$43,296.36</td>\n",
       "      <td>2341093M_2489527F</td>\n",
       "    </tr>\n",
       "    <tr>\n",
       "      <th>1</th>\n",
       "      <td>1</td>\n",
       "      <td>Alaska</td>\n",
       "      <td>733375</td>\n",
       "      <td>5.91%</td>\n",
       "      <td>60.91%</td>\n",
       "      <td>2.85%</td>\n",
       "      <td>16.39%</td>\n",
       "      <td>5.45%</td>\n",
       "      <td>1.06%</td>\n",
       "      <td>$70,354.74</td>\n",
       "      <td>384160M_349215F</td>\n",
       "    </tr>\n",
       "    <tr>\n",
       "      <th>2</th>\n",
       "      <td>2</td>\n",
       "      <td>Arizona</td>\n",
       "      <td>6641928</td>\n",
       "      <td>29.57%</td>\n",
       "      <td>57.12%</td>\n",
       "      <td>3.85%</td>\n",
       "      <td>4.36%</td>\n",
       "      <td>2.88%</td>\n",
       "      <td>0.17%</td>\n",
       "      <td>$54,207.82</td>\n",
       "      <td>3299088M_3342840F</td>\n",
       "    </tr>\n",
       "    <tr>\n",
       "      <th>3</th>\n",
       "      <td>3</td>\n",
       "      <td>Arkansas</td>\n",
       "      <td>2958208</td>\n",
       "      <td>6.22%</td>\n",
       "      <td>71.14%</td>\n",
       "      <td>18.97%</td>\n",
       "      <td>0.52%</td>\n",
       "      <td>1.14%</td>\n",
       "      <td>0.15%</td>\n",
       "      <td>$41,935.63</td>\n",
       "      <td>1451913M_1506295F</td>\n",
       "    </tr>\n",
       "    <tr>\n",
       "      <th>4</th>\n",
       "      <td>4</td>\n",
       "      <td>California</td>\n",
       "      <td>38421464</td>\n",
       "      <td>37.29%</td>\n",
       "      <td>40.22%</td>\n",
       "      <td>5.68%</td>\n",
       "      <td>0.41%</td>\n",
       "      <td>13.05%</td>\n",
       "      <td>0.35%</td>\n",
       "      <td>$67,264.78</td>\n",
       "      <td>19087135M_19334329F</td>\n",
       "    </tr>\n",
       "  </tbody>\n",
       "</table>\n",
       "</div>"
      ],
      "text/plain": [
       "   Unnamed: 0       State  TotalPop Hispanic   White   Black  Native   Asian  \\\n",
       "0           0     Alabama   4830620    3.75%  61.88%  31.25%   0.45%   1.05%   \n",
       "1           1      Alaska    733375    5.91%  60.91%   2.85%  16.39%   5.45%   \n",
       "2           2     Arizona   6641928   29.57%  57.12%   3.85%   4.36%   2.88%   \n",
       "3           3    Arkansas   2958208    6.22%  71.14%  18.97%   0.52%   1.14%   \n",
       "4           4  California  38421464   37.29%  40.22%   5.68%   0.41%  13.05%   \n",
       "\n",
       "  Pacific       Income            GenderPop  \n",
       "0   0.03%  $43,296.36     2341093M_2489527F  \n",
       "1   1.06%  $70,354.74       384160M_349215F  \n",
       "2   0.17%  $54,207.82     3299088M_3342840F  \n",
       "3   0.15%  $41,935.63     1451913M_1506295F  \n",
       "4   0.35%  $67,264.78   19087135M_19334329F  "
      ]
     },
     "execution_count": 6,
     "metadata": {},
     "output_type": "execute_result"
    }
   ],
   "source": [
    "us_census.head()"
   ]
  },
  {
   "cell_type": "markdown",
   "metadata": {},
   "source": [
    "## Regex to the Rescue"
   ]
  },
  {
   "cell_type": "markdown",
   "metadata": {},
   "source": [
    "5. Use regex to turn the `Income` column into a format that is ready for conversion into a numerical type."
   ]
  },
  {
   "cell_type": "code",
   "execution_count": 9,
   "metadata": {},
   "outputs": [
    {
     "name": "stdout",
     "output_type": "stream",
     "text": [
      "<class 'pandas.core.frame.DataFrame'>\n",
      "Int64Index: 60 entries, 0 to 5\n",
      "Data columns (total 11 columns):\n",
      " #   Column      Non-Null Count  Dtype  \n",
      "---  ------      --------------  -----  \n",
      " 0   Unnamed: 0  60 non-null     int64  \n",
      " 1   State       60 non-null     object \n",
      " 2   TotalPop    60 non-null     int64  \n",
      " 3   Hispanic    60 non-null     object \n",
      " 4   White       60 non-null     object \n",
      " 5   Black       60 non-null     object \n",
      " 6   Native      60 non-null     object \n",
      " 7   Asian       60 non-null     object \n",
      " 8   Pacific     55 non-null     object \n",
      " 9   Income      60 non-null     float64\n",
      " 10  GenderPop   60 non-null     object \n",
      "dtypes: float64(1), int64(2), object(8)\n",
      "memory usage: 5.6+ KB\n"
     ]
    }
   ],
   "source": [
    "# use Regex to remove the ('$' and ',') signs\n",
    "us_census['Income'] =us_census['Income'].replace('[$,]','', regex =True)\n",
    "\n",
    "#We convert the object to a float\n",
    "us_census['Income'] =pd.to_numeric(us_census.Income)\n",
    "us_census.info()"
   ]
  },
  {
   "cell_type": "markdown",
   "metadata": {},
   "source": [
    "6. Look at the `GenderPop` column. We are going to want to separate this into two columns, the `Men` column, and the `Women` column.\n",
    "\n",
    "   Split the column into those two new columns using `str.split` and separating out those results."
   ]
  },
  {
   "cell_type": "code",
   "execution_count": 12,
   "metadata": {},
   "outputs": [
    {
     "name": "stdout",
     "output_type": "stream",
     "text": [
      "<class 'pandas.core.frame.DataFrame'>\n",
      "Int64Index: 60 entries, 0 to 5\n",
      "Data columns (total 13 columns):\n",
      " #   Column      Non-Null Count  Dtype  \n",
      "---  ------      --------------  -----  \n",
      " 0   Unnamed: 0  60 non-null     int64  \n",
      " 1   State       60 non-null     object \n",
      " 2   TotalPop    60 non-null     int64  \n",
      " 3   Hispanic    60 non-null     object \n",
      " 4   White       60 non-null     object \n",
      " 5   Black       60 non-null     object \n",
      " 6   Native      60 non-null     object \n",
      " 7   Asian       60 non-null     object \n",
      " 8   Pacific     55 non-null     object \n",
      " 9   Income      60 non-null     float64\n",
      " 10  GenderPop   60 non-null     object \n",
      " 11  Men         60 non-null     object \n",
      " 12  Women       60 non-null     object \n",
      "dtypes: float64(1), int64(2), object(10)\n",
      "memory usage: 6.6+ KB\n"
     ]
    }
   ],
   "source": [
    "gender_split=us_census.GenderPop.str.split('_')\n",
    "us_census['Men']=gender_split.str.get(0)\n",
    "us_census['Women']=gender_split.str.get(1)\n",
    "\n",
    "#Separating the GenderPop column into two different male and female columns\n",
    "#Creating new columns with that data\n",
    "us_census.info()"
   ]
  },
  {
   "cell_type": "markdown",
   "metadata": {},
   "source": [
    "7. Convert both of the columns into numerical datatypes.\n",
    "\n",
    "   There is still an `M` or an `F` character in each entry! We should remove those before we convert."
   ]
  },
  {
   "cell_type": "code",
   "execution_count": 13,
   "metadata": {},
   "outputs": [
    {
     "name": "stdout",
     "output_type": "stream",
     "text": [
      "<class 'pandas.core.frame.DataFrame'>\n",
      "Int64Index: 60 entries, 0 to 5\n",
      "Data columns (total 13 columns):\n",
      " #   Column      Non-Null Count  Dtype  \n",
      "---  ------      --------------  -----  \n",
      " 0   Unnamed: 0  60 non-null     int64  \n",
      " 1   State       60 non-null     object \n",
      " 2   TotalPop    60 non-null     int64  \n",
      " 3   Hispanic    60 non-null     object \n",
      " 4   White       60 non-null     object \n",
      " 5   Black       60 non-null     object \n",
      " 6   Native      60 non-null     object \n",
      " 7   Asian       60 non-null     object \n",
      " 8   Pacific     55 non-null     object \n",
      " 9   Income      60 non-null     float64\n",
      " 10  GenderPop   60 non-null     object \n",
      " 11  Men         60 non-null     int64  \n",
      " 12  Women       57 non-null     float64\n",
      "dtypes: float64(2), int64(3), object(8)\n",
      "memory usage: 6.6+ KB\n"
     ]
    }
   ],
   "source": [
    "#Removing the M and F characters\n",
    "us_census.Men=us_census.Men.replace(['M'], '', regex=True)\n",
    "us_census.Women=us_census.Women.replace(['F'], '', regex=True)\n",
    "\n",
    "us_census.head()\n",
    "\n",
    "#Converting the gender population columns into numeric variables\n",
    "us_census.Men =pd.to_numeric(us_census.Men)\n",
    "us_census.Women =pd.to_numeric(us_census.Women)\n",
    "us_census.info()"
   ]
  },
  {
   "cell_type": "markdown",
   "metadata": {},
   "source": [
    "8. Now you should have the columns you need to make the graph and make sure your boss does not slam a ruler angrily on your desk because you've wasted your whole day cleaning your data with no results to show!\n",
    "\n",
    "   Use matplotlib to make a scatterplot!\n",
    "   \n",
    "   ```py\n",
    "   plt.scatter(the_women_column, the_income_column)\n",
    "   ```\n",
    "   \n",
    "   Remember to call `plt.show()` to see the graph!"
   ]
  },
  {
   "cell_type": "code",
   "execution_count": 16,
   "metadata": {},
   "outputs": [
    {
     "data": {
      "image/png": "[encoded data removed]",
      "text/plain": [
       "<Figure size 640x480 with 1 Axes>"
      ]
     },
     "metadata": {},
     "output_type": "display_data"
    }
   ],
   "source": [
    "plt.scatter(us_census.Women, us_census.Income)\n",
    "plt.show()"
   ]
  },
  {
   "cell_type": "code",
   "execution_count": 18,
   "metadata": {},
   "outputs": [
    {
     "data": {
      "text/plain": [
       "Text(0, 0.5, 'Income in USD')"
      ]
     },
     "execution_count": 18,
     "metadata": {},
     "output_type": "execute_result"
    },
    {
     "data": {
      "image/png": "[encoded data removed]",
      "text/plain": [
       "<Figure size 640x480 with 1 Axes>"
      ]
     },
     "metadata": {},
     "output_type": "display_data"
    }
   ],
   "source": [
    "import seaborn as sns\n",
    "sns.scatterplot(x=us_census.Women, y=us_census.Income, data=us_census)\n",
    "plt.title('Scatterplot of Female Population vs Income')\n",
    "plt.xlabel('Population')\n",
    "plt.ylabel('Income in USD')"
   ]
  },
  {
   "cell_type": "markdown",
   "metadata": {},
   "source": [
    "9. You want to double check your work. You know from experience that these monstrous csv files probably have `nan` values in them! Print out your column with the number of women per state to see.\n",
    "\n",
    "   We can fill in those `nan`s by using pandas' `.fillna()` function.\n",
    "   \n",
    "   You have the `TotalPop` per state, and you have the `Men` per state. As an estimate for the `nan` values in the `Women` column, you could use the `TotalPop` of that state minus the `Men` for that state.\n",
    "   \n",
    "   Print out the `Women` column after filling the `nan` values to see if it worked!"
   ]
  },
  {
   "cell_type": "code",
   "execution_count": 19,
   "metadata": {},
   "outputs": [
    {
     "data": {
      "text/plain": [
       "False    57\n",
       "True      3\n",
       "Name: Women, dtype: int64"
      ]
     },
     "execution_count": 19,
     "metadata": {},
     "output_type": "execute_result"
    }
   ],
   "source": [
    "#Checking for Missing Values\n",
    "us_census.Women.isna().value_counts()"
   ]
  },
  {
   "cell_type": "code",
   "execution_count": 20,
   "metadata": {},
   "outputs": [
    {
     "data": {
      "text/plain": [
       "False    60\n",
       "Name: Men, dtype: int64"
      ]
     },
     "execution_count": 20,
     "metadata": {},
     "output_type": "execute_result"
    }
   ],
   "source": [
    "us_census.Men.isna().value_counts()"
   ]
  },
  {
   "cell_type": "code",
   "execution_count": 21,
   "metadata": {},
   "outputs": [],
   "source": [
    "#We have 3 missing values in the Female Population column and no in the male\n",
    "#We can fill those missing values with\n",
    "#FemalePop = TotalPop - MalePop\n",
    "us_census.Women=us_census.Women.fillna(value =us_census.TotalPop-us_census.Men)"
   ]
  },
  {
   "cell_type": "code",
   "execution_count": 22,
   "metadata": {},
   "outputs": [
    {
     "data": {
      "text/plain": [
       "False    60\n",
       "Name: Women, dtype: int64"
      ]
     },
     "execution_count": 22,
     "metadata": {},
     "output_type": "execute_result"
    }
   ],
   "source": [
    "us_census.Women.isna().value_counts()"
   ]
  },
  {
   "cell_type": "markdown",
   "metadata": {},
   "source": [
    "10. We forgot to check for duplicates! Use `.duplicated()` on your `census` DataFrame to see if we have duplicate rows in there."
   ]
  },
  {
   "cell_type": "code",
   "execution_count": 28,
   "metadata": {},
   "outputs": [
    {
     "data": {
      "text/plain": [
       "False    51\n",
       "True      9\n",
       "dtype: int64"
      ]
     },
     "execution_count": 28,
     "metadata": {},
     "output_type": "execute_result"
    }
   ],
   "source": [
    "us_census.duplicated(subset=['State']).value_counts()"
   ]
  },
  {
   "cell_type": "markdown",
   "metadata": {},
   "source": [
    "11. Drop those duplicates using the `.drop_duplicates()` function."
   ]
  },
  {
   "cell_type": "code",
   "execution_count": 29,
   "metadata": {},
   "outputs": [],
   "source": [
    "us_census = us_census.drop_duplicates(subset=['State'])"
   ]
  },
  {
   "cell_type": "code",
   "execution_count": 30,
   "metadata": {},
   "outputs": [
    {
     "data": {
      "text/plain": [
       "False    51\n",
       "dtype: int64"
      ]
     },
     "execution_count": 30,
     "metadata": {},
     "output_type": "execute_result"
    }
   ],
   "source": [
    "us_census.duplicated(subset=['State']).value_counts()"
   ]
  },
  {
   "cell_type": "markdown",
   "metadata": {},
   "source": [
    "12. Make the scatterplot again. Now, it should be perfect! Your job is secure, for now."
   ]
  },
  {
   "cell_type": "code",
   "execution_count": 31,
   "metadata": {},
   "outputs": [
    {
     "data": {
      "text/plain": [
       "Text(0, 0.5, 'Income in USD')"
      ]
     },
     "execution_count": 31,
     "metadata": {},
     "output_type": "execute_result"
    },
    {
     "data": {
      "image/png": "[encoded data removed]",
      "text/plain": [
       "<Figure size 640x480 with 1 Axes>"
      ]
     },
     "metadata": {},
     "output_type": "display_data"
    }
   ],
   "source": [
    "#Plotting again without duplicates or missing values\n",
    "sns.scatterplot(x=us_census.Women, y=us_census.Income, data=us_census)\n",
    "plt.title('Scatterplot of Female Population vs Income')\n",
    "plt.xlabel('Population in tens of millions')\n",
    "plt.ylabel('Income in USD')"
   ]
  },
  {
   "cell_type": "markdown",
   "metadata": {},
   "source": [
    "## Histogram of Races"
   ]
  },
  {
   "cell_type": "markdown",
   "metadata": {},
   "source": [
    "13. Now your boss wants you to make a bunch of histograms out of the race data that you have. Look at the `.columns` again to see what the race categories are."
   ]
  },
  {
   "cell_type": "code",
   "execution_count": 32,
   "metadata": {},
   "outputs": [
    {
     "data": {
      "text/plain": [
       "Index(['Unnamed: 0', 'State', 'TotalPop', 'Hispanic', 'White', 'Black',\n",
       "       'Native', 'Asian', 'Pacific', 'Income', 'GenderPop', 'Men', 'Women'],\n",
       "      dtype='object')"
      ]
     },
     "execution_count": 32,
     "metadata": {},
     "output_type": "execute_result"
    }
   ],
   "source": [
    "us_census.columns"
   ]
  },
  {
   "cell_type": "markdown",
   "metadata": {},
   "source": [
    "14. Try to make a histogram for each one!\n",
    "\n",
    "    You will have to get the columns into the numerical format, and those percentage signs will have to go.\n",
    "    \n",
    "    Don't forget to fill the `nan` values with something that makes sense! You probably dropped the duplicate rows when making your last graph, but it couldn't hurt to check for duplicates again."
   ]
  },
  {
   "cell_type": "code",
   "execution_count": 33,
   "metadata": {},
   "outputs": [
    {
     "data": {
      "text/plain": [
       "False    47\n",
       "True      4\n",
       "Name: Pacific, dtype: int64"
      ]
     },
     "execution_count": 33,
     "metadata": {},
     "output_type": "execute_result"
    }
   ],
   "source": [
    "us_census.Pacific.isna().value_counts()"
   ]
  },
  {
   "cell_type": "code",
   "execution_count": 34,
   "metadata": {},
   "outputs": [
    {
     "name": "stderr",
     "output_type": "stream",
     "text": [
      "C:\\Users\\Пользователь\\AppData\\Local\\Temp\\ipykernel_20940\\4158176992.py:1: SettingWithCopyWarning: \n",
      "A value is trying to be set on a copy of a slice from a DataFrame.\n",
      "Try using .loc[row_indexer,col_indexer] = value instead\n",
      "\n",
      "See the caveats in the documentation: https://pandas.pydata.org/pandas-docs/stable/user_guide/indexing.html#returning-a-view-versus-a-copy\n",
      "  us_census.Hispanic = us_census.Hispanic.replace('[%]','',regex=True)\n",
      "C:\\Users\\Пользователь\\AppData\\Local\\Temp\\ipykernel_20940\\4158176992.py:2: SettingWithCopyWarning: \n",
      "A value is trying to be set on a copy of a slice from a DataFrame.\n",
      "Try using .loc[row_indexer,col_indexer] = value instead\n",
      "\n",
      "See the caveats in the documentation: https://pandas.pydata.org/pandas-docs/stable/user_guide/indexing.html#returning-a-view-versus-a-copy\n",
      "  us_census.White = us_census.White.replace('[%]','',regex=True)\n",
      "C:\\Users\\Пользователь\\AppData\\Local\\Temp\\ipykernel_20940\\4158176992.py:3: SettingWithCopyWarning: \n",
      "A value is trying to be set on a copy of a slice from a DataFrame.\n",
      "Try using .loc[row_indexer,col_indexer] = value instead\n",
      "\n",
      "See the caveats in the documentation: https://pandas.pydata.org/pandas-docs/stable/user_guide/indexing.html#returning-a-view-versus-a-copy\n",
      "  us_census.Black = us_census.Black.replace('[%]','',regex=True)\n",
      "C:\\Users\\Пользователь\\AppData\\Local\\Temp\\ipykernel_20940\\4158176992.py:4: SettingWithCopyWarning: \n",
      "A value is trying to be set on a copy of a slice from a DataFrame.\n",
      "Try using .loc[row_indexer,col_indexer] = value instead\n",
      "\n",
      "See the caveats in the documentation: https://pandas.pydata.org/pandas-docs/stable/user_guide/indexing.html#returning-a-view-versus-a-copy\n",
      "  us_census.Native = us_census.Native.replace('[%]','',regex=True)\n",
      "C:\\Users\\Пользователь\\AppData\\Local\\Temp\\ipykernel_20940\\4158176992.py:5: SettingWithCopyWarning: \n",
      "A value is trying to be set on a copy of a slice from a DataFrame.\n",
      "Try using .loc[row_indexer,col_indexer] = value instead\n",
      "\n",
      "See the caveats in the documentation: https://pandas.pydata.org/pandas-docs/stable/user_guide/indexing.html#returning-a-view-versus-a-copy\n",
      "  us_census.Asian = us_census.Asian.replace('[%]','',regex=True)\n",
      "C:\\Users\\Пользователь\\AppData\\Local\\Temp\\ipykernel_20940\\4158176992.py:6: SettingWithCopyWarning: \n",
      "A value is trying to be set on a copy of a slice from a DataFrame.\n",
      "Try using .loc[row_indexer,col_indexer] = value instead\n",
      "\n",
      "See the caveats in the documentation: https://pandas.pydata.org/pandas-docs/stable/user_guide/indexing.html#returning-a-view-versus-a-copy\n",
      "  us_census.Pacific = us_census.Pacific.replace('[%]','',regex=True)\n"
     ]
    }
   ],
   "source": [
    "us_census.Hispanic = us_census.Hispanic.replace('[%]','',regex=True)\n",
    "us_census.White = us_census.White.replace('[%]','',regex=True)\n",
    "us_census.Black = us_census.Black.replace('[%]','',regex=True)\n",
    "us_census.Native = us_census.Native.replace('[%]','',regex=True)\n",
    "us_census.Asian = us_census.Asian.replace('[%]','',regex=True)\n",
    "us_census.Pacific = us_census.Pacific.replace('[%]','',regex=True)"
   ]
  },
  {
   "cell_type": "code",
   "execution_count": 35,
   "metadata": {},
   "outputs": [
    {
     "name": "stderr",
     "output_type": "stream",
     "text": [
      "C:\\Users\\Пользователь\\AppData\\Local\\Temp\\ipykernel_20940\\2937804032.py:1: SettingWithCopyWarning: \n",
      "A value is trying to be set on a copy of a slice from a DataFrame.\n",
      "Try using .loc[row_indexer,col_indexer] = value instead\n",
      "\n",
      "See the caveats in the documentation: https://pandas.pydata.org/pandas-docs/stable/user_guide/indexing.html#returning-a-view-versus-a-copy\n",
      "  us_census.Hispanic = pd.to_numeric(us_census.Hispanic)\n",
      "C:\\Users\\Пользователь\\AppData\\Local\\Temp\\ipykernel_20940\\2937804032.py:2: SettingWithCopyWarning: \n",
      "A value is trying to be set on a copy of a slice from a DataFrame.\n",
      "Try using .loc[row_indexer,col_indexer] = value instead\n",
      "\n",
      "See the caveats in the documentation: https://pandas.pydata.org/pandas-docs/stable/user_guide/indexing.html#returning-a-view-versus-a-copy\n",
      "  us_census.White = pd.to_numeric(us_census.White)\n",
      "C:\\Users\\Пользователь\\AppData\\Local\\Temp\\ipykernel_20940\\2937804032.py:3: SettingWithCopyWarning: \n",
      "A value is trying to be set on a copy of a slice from a DataFrame.\n",
      "Try using .loc[row_indexer,col_indexer] = value instead\n",
      "\n",
      "See the caveats in the documentation: https://pandas.pydata.org/pandas-docs/stable/user_guide/indexing.html#returning-a-view-versus-a-copy\n",
      "  us_census.Black = pd.to_numeric(us_census.Black)\n",
      "C:\\Users\\Пользователь\\AppData\\Local\\Temp\\ipykernel_20940\\2937804032.py:4: SettingWithCopyWarning: \n",
      "A value is trying to be set on a copy of a slice from a DataFrame.\n",
      "Try using .loc[row_indexer,col_indexer] = value instead\n",
      "\n",
      "See the caveats in the documentation: https://pandas.pydata.org/pandas-docs/stable/user_guide/indexing.html#returning-a-view-versus-a-copy\n",
      "  us_census.Native = pd.to_numeric(us_census.Native)\n",
      "C:\\Users\\Пользователь\\AppData\\Local\\Temp\\ipykernel_20940\\2937804032.py:5: SettingWithCopyWarning: \n",
      "A value is trying to be set on a copy of a slice from a DataFrame.\n",
      "Try using .loc[row_indexer,col_indexer] = value instead\n",
      "\n",
      "See the caveats in the documentation: https://pandas.pydata.org/pandas-docs/stable/user_guide/indexing.html#returning-a-view-versus-a-copy\n",
      "  us_census.Asian = pd.to_numeric(us_census.Asian)\n",
      "C:\\Users\\Пользователь\\AppData\\Local\\Temp\\ipykernel_20940\\2937804032.py:6: SettingWithCopyWarning: \n",
      "A value is trying to be set on a copy of a slice from a DataFrame.\n",
      "Try using .loc[row_indexer,col_indexer] = value instead\n",
      "\n",
      "See the caveats in the documentation: https://pandas.pydata.org/pandas-docs/stable/user_guide/indexing.html#returning-a-view-versus-a-copy\n",
      "  us_census.Pacific = pd.to_numeric(us_census.Pacific)\n"
     ]
    }
   ],
   "source": [
    "us_census.Hispanic = pd.to_numeric(us_census.Hispanic)\n",
    "us_census.White = pd.to_numeric(us_census.White)\n",
    "us_census.Black = pd.to_numeric(us_census.Black)\n",
    "us_census.Native = pd.to_numeric(us_census.Native)\n",
    "us_census.Asian = pd.to_numeric(us_census.Asian)\n",
    "us_census.Pacific = pd.to_numeric(us_census.Pacific)"
   ]
  },
  {
   "cell_type": "code",
   "execution_count": 36,
   "metadata": {},
   "outputs": [
    {
     "name": "stdout",
     "output_type": "stream",
     "text": [
      "<class 'pandas.core.frame.DataFrame'>\n",
      "Int64Index: 51 entries, 0 to 5\n",
      "Data columns (total 13 columns):\n",
      " #   Column      Non-Null Count  Dtype  \n",
      "---  ------      --------------  -----  \n",
      " 0   Unnamed: 0  51 non-null     int64  \n",
      " 1   State       51 non-null     object \n",
      " 2   TotalPop    51 non-null     int64  \n",
      " 3   Hispanic    51 non-null     float64\n",
      " 4   White       51 non-null     float64\n",
      " 5   Black       51 non-null     float64\n",
      " 6   Native      51 non-null     float64\n",
      " 7   Asian       51 non-null     float64\n",
      " 8   Pacific     47 non-null     float64\n",
      " 9   Income      51 non-null     float64\n",
      " 10  GenderPop   51 non-null     object \n",
      " 11  Men         51 non-null     int64  \n",
      " 12  Women       51 non-null     float64\n",
      "dtypes: float64(8), int64(3), object(2)\n",
      "memory usage: 5.6+ KB\n"
     ]
    }
   ],
   "source": [
    "us_census.info()"
   ]
  },
  {
   "cell_type": "code",
   "execution_count": 37,
   "metadata": {},
   "outputs": [
    {
     "name": "stderr",
     "output_type": "stream",
     "text": [
      "C:\\Users\\Пользователь\\AppData\\Local\\Temp\\ipykernel_20940\\1233796563.py:1: SettingWithCopyWarning: \n",
      "A value is trying to be set on a copy of a slice from a DataFrame.\n",
      "Try using .loc[row_indexer,col_indexer] = value instead\n",
      "\n",
      "See the caveats in the documentation: https://pandas.pydata.org/pandas-docs/stable/user_guide/indexing.html#returning-a-view-versus-a-copy\n",
      "  us_census['Pacific'] = us_census['Pacific'].fillna(100 - (us_census['Hispanic'] +us_census['Black']+us_census['White']+us_census['Native']+us_census['Asian']  ))\n"
     ]
    }
   ],
   "source": [
    "us_census['Pacific'] = us_census['Pacific'].fillna(100 - (us_census['Hispanic'] +us_census['Black']+us_census['White']+us_census['Native']+us_census['Asian']  ))"
   ]
  },
  {
   "cell_type": "code",
   "execution_count": 38,
   "metadata": {},
   "outputs": [
    {
     "data": {
      "text/plain": [
       "False    51\n",
       "Name: Pacific, dtype: int64"
      ]
     },
     "execution_count": 38,
     "metadata": {},
     "output_type": "execute_result"
    }
   ],
   "source": [
    "us_census.Pacific.isna().value_counts()"
   ]
  },
  {
   "cell_type": "markdown",
   "metadata": {},
   "source": [
    "## Get Creative"
   ]
  },
  {
   "cell_type": "markdown",
   "metadata": {},
   "source": [
    "15. Phew. You've definitely impressed your boss on your first day of work.\n",
    "\n",
    "    But is there a way you really convey the power of pandas and Python over the drudgery of `csv` and Excel?\n",
    "    \n",
    "    Try to make some more interesting graphs to show your boss, and the world! You may need to clean the data even more to do it, or the cleaning you have already done may give you the ease of manipulation you've been searching for."
   ]
  },
  {
   "cell_type": "code",
   "execution_count": 39,
   "metadata": {
    "scrolled": false
   },
   "outputs": [
    {
     "data": {
      "image/png": "[encoded data removed]",
      "text/plain": [
       "<Figure size 640x480 with 1 Axes>"
      ]
     },
     "metadata": {},
     "output_type": "display_data"
    },
    {
     "data": {
      "image/png": "[encoded data removed]",
      "text/plain": [
       "<Figure size 640x480 with 1 Axes>"
      ]
     },
     "metadata": {},
     "output_type": "display_data"
    },
    {
     "data": {
      "image/png": "[encoded data removed]",
      "text/plain": [
       "<Figure size 640x480 with 1 Axes>"
      ]
     },
     "metadata": {},
     "output_type": "display_data"
    },
    {
     "data": {
      "image/png": "[encoded data removed]",
      "text/plain": [
       "<Figure size 640x480 with 1 Axes>"
      ]
     },
     "metadata": {},
     "output_type": "display_data"
    },
    {
     "data": {
      "image/png": "[encoded data removed]",
      "text/plain": [
       "<Figure size 640x480 with 1 Axes>"
      ]
     },
     "metadata": {},
     "output_type": "display_data"
    },
    {
     "data": {
      "image/png": "[encoded data removed]",
      "text/plain": [
       "<Figure size 640x480 with 1 Axes>"
      ]
     },
     "metadata": {},
     "output_type": "display_data"
    },
    {
     "data": {
      "text/plain": [
       "<Figure size 640x480 with 0 Axes>"
      ]
     },
     "metadata": {},
     "output_type": "display_data"
    }
   ],
   "source": [
    "for race in ['Hispanic', 'White', 'Black', 'Native', 'Asian', 'Pacific']:\n",
    "    plt.hist(us_census[race])\n",
    "    plt.title(\"Histogram of the Percentage of {} People per State\".format(race))\n",
    "    plt.xlabel(\"Percentage\")\n",
    "    plt.ylabel(\"Frequency\")\n",
    "    plt.show()\n",
    "    plt.clf()"
   ]
  }
 ],
 "metadata": {
  "kernelspec": {
   "display_name": "Python 3 (ipykernel)",
   "language": "python",
   "name": "python3"
  },
  "language_info": {
   "codemirror_mode": {
    "name": "ipython",
    "version": 3
   },
   "file_extension": ".py",
   "mimetype": "text/x-python",
   "name": "python",
   "nbconvert_exporter": "python",
   "pygments_lexer": "ipython3",
   "version": "3.10.1"
  }
 },
 "nbformat": 4,
 "nbformat_minor": 2
}
